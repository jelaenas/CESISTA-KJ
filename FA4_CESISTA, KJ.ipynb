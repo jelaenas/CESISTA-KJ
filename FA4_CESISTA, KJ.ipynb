{
 "cells": [
  {
   "cell_type": "markdown",
   "id": "79dacc1a",
   "metadata": {},
   "source": [
    "## 1. Write a Python program to print the even numbers from a given list.\n",
    "## List: [1, 2, 3, 4, 5, 6, 7, 8, 9, 10, 11, 13, 15, 17, 19, 24, 26, 28, 30, 32]"
   ]
  },
  {
   "cell_type": "code",
   "execution_count": 7,
   "id": "583e01b6",
   "metadata": {},
   "outputs": [
    {
     "name": "stdout",
     "output_type": "stream",
     "text": [
      "The even numbers from the given list is [2, 4, 6, 8, 10, 24, 26, 28, 30, 32]\n"
     ]
    }
   ],
   "source": [
    "list = [1, 2, 3, 4, 5, 6, 7, 8, 9, 10, 11, 13, 15, 17, 19, 24, 26, 28, 30, 32]\n",
    "even = []\n",
    "for x in list:\n",
    " if x%2==0:\n",
    "  even.append(x)\n",
    "\n",
    "print(\"The even numbers from the given list is %s\" %(even))"
   ]
  },
  {
   "cell_type": "markdown",
   "id": "9f4a2a60",
   "metadata": {},
   "source": [
    "## 2. Generate a Python list of all the even numbers between 10 to 60."
   ]
  },
  {
   "cell_type": "code",
   "execution_count": 6,
   "id": "4d6d240a",
   "metadata": {},
   "outputs": [
    {
     "name": "stdout",
     "output_type": "stream",
     "text": [
      "The even numbers between 10 to 60 is [12, 14, 16, 18, 20, 22, 24, 26, 28, 30, 32, 34, 36, 38, 40, 42, 44, 46, 48, 50, 52, 54, 56, 58]\n"
     ]
    }
   ],
   "source": [
    "even = []\n",
    "for x in range (11,60):\n",
    "    if x%2==0:\n",
    "        even.append(x)\n",
    "\n",
    "print(\"The even numbers between 10 to 60 is %s\" %(even))"
   ]
  },
  {
   "cell_type": "markdown",
   "id": "0bd3e9ae",
   "metadata": {},
   "source": [
    "## 3. Write a program to create a function show_feu_professor() using the following conditions: \n",
    "## It should accept the professor’s name and salary and display both. \n",
    "## If the salary is missing in the function call then assign default value 70000 to salary.\n",
    "## Expected output: Display of at least 5 FEU professors with their salaries."
   ]
  },
  {
   "cell_type": "code",
   "execution_count": 5,
   "id": "79a80844",
   "metadata": {},
   "outputs": [
    {
     "name": "stdout",
     "output_type": "stream",
     "text": [
      "Enter number of professors: 5\n",
      "Enter name of professor: Jeffrey Alvarina\n",
      "Enter professor's salary: 96000\n",
      "\n",
      "\n",
      "Enter name of professor: Normita Cobarrubias\n",
      "Enter professor's salary: 90000\n",
      "\n",
      "\n",
      "Enter name of professor: Christopher Pelias\n",
      "Enter professor's salary: \n",
      "\n",
      "\n",
      "Enter name of professor: Marielle Gidalanga\n",
      "Enter professor's salary: 78000\n",
      "\n",
      "\n",
      "Enter name of professor: Paulyn Datu\n",
      "Enter professor's salary: 93000\n",
      "\n",
      "\n",
      "Professor Jeffrey Alvarina's salary is ₱96000. \n",
      "Professor Normita Cobarrubias's salary is ₱90000. \n",
      "Professor Christopher Pelias's salary is ₱70000. \n",
      "Professor Marielle Gidalanga's salary is ₱78000. \n",
      "Professor Paulyn Datu's salary is ₱93000. \n"
     ]
    }
   ],
   "source": [
    "def show_feu_professors(n, professor, salary):\n",
    "    for x in range(0,n):\n",
    "            y=input(\"Enter name of professor: \")\n",
    "            professor.append(y)\n",
    "            z=input(\"Enter professor's salary: \") or 70000\n",
    "            salary.append(z)\n",
    "            \n",
    "            print (\"\\n\") \n",
    "            \n",
    "    for y in range(0,n):\n",
    "            print(\"Professor %s's salary is ₱%s. \" %(professor[y],salary[y]))\n",
    "            \n",
    "professor = []\n",
    "salary = []\n",
    "n=int(input(\"Enter number of professors: \"))\n",
    "\n",
    "show_feu_professors(n,professor,salary)"
   ]
  },
  {
   "cell_type": "code",
   "execution_count": null,
   "id": "33366e8d",
   "metadata": {},
   "outputs": [],
   "source": []
  }
 ],
 "metadata": {
  "kernelspec": {
   "display_name": "Python 3 (ipykernel)",
   "language": "python",
   "name": "python3"
  },
  "language_info": {
   "codemirror_mode": {
    "name": "ipython",
    "version": 3
   },
   "file_extension": ".py",
   "mimetype": "text/x-python",
   "name": "python",
   "nbconvert_exporter": "python",
   "pygments_lexer": "ipython3",
   "version": "3.11.5"
  }
 },
 "nbformat": 4,
 "nbformat_minor": 5
}
