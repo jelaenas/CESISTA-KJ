{
 "cells": [
  {
   "cell_type": "markdown",
   "id": "3ca2fcb1",
   "metadata": {},
   "source": [
    "## 1. Create an exponent calculator using both iterations and recursion, with rendering time.\n",
    "Note:\n",
    "\n",
    "In this project, you define two functions: iterative_exponent and recursive_exponent, which calculate the exponent of a given base using iteration and recursion respectively. You then take user input for the base and exponent and use both functions to calculate the exponent. You may use the time module to measure the rendering time of each calculation. You may start a timer before each calculation and stop it afterwards, then calculate the difference between the two times to get the rendering time. The final display should print out the results and the rendering time for each calculation."
   ]
  },
  {
   "cell_type": "code",
   "execution_count": 7,
   "id": "07e3716c",
   "metadata": {},
   "outputs": [
    {
     "name": "stdout",
     "output_type": "stream",
     "text": [
      "Enter the base: 32\n",
      "Enter the exponent: 6\n",
      "32 raised to 6 is 1073741824\n",
      "The rendering time of the iterative function is :0.0005347728729248047\n"
     ]
    }
   ],
   "source": [
    "import time\n",
    "\n",
    "def iterative_exponent(b,exp):\n",
    "    argument=1\n",
    "    i=1\n",
    "    while i<= exp:\n",
    "        argument = b * argument\n",
    "        i=i+1\n",
    "    return argument\n",
    "        \n",
    "b=int(input(\"Enter the base: \"))\n",
    "exp=int(input(\"Enter the exponent: \"))\n",
    "while exp<=0:\n",
    "    exp=int(input(\"Please enter an integer greater than zero: \"))\n",
    "start=time.time()\n",
    "argument=iterative_exponent(b,exp)\n",
    "end=time.time()\n",
    "print(\"%d raised to %d is %d\" %(b,exp,argument))\n",
    "print(\"The rendering time of the iterative function is :\", end='')\n",
    "print(end-start)"
   ]
  },
  {
   "cell_type": "code",
   "execution_count": 8,
   "id": "3d9f4c15",
   "metadata": {},
   "outputs": [
    {
     "name": "stdout",
     "output_type": "stream",
     "text": [
      "Enter the base: 32\n",
      "Enter the exponent: 6\n",
      "32 raised to 6 is 1073741824\n",
      "The rendering time of the recursive function is :0.0\n"
     ]
    }
   ],
   "source": [
    "import time\n",
    "\n",
    "def recursive_exponent(b,exp):\n",
    "        if exp==1:\n",
    "            return b\n",
    "        else:\n",
    "            return b*recursive_exponent(b,exp-1)\n",
    "        \n",
    "\n",
    "b=int(input(\"Enter the base: \"))\n",
    "exp=int(input(\"Enter the exponent: \"))\n",
    "while exp<=0:\n",
    "    exp=int(input(\"Please enter an integer greater than zero: \"))\n",
    "start=time.time()\n",
    "argument=recursive_exponent(b,exp)\n",
    "end=time.time()\n",
    "print(\"%d raised to %d is %d\" %(b,exp,argument))\n",
    "print(\"The rendering time of the recursive function is :\", end='')\n",
    "print(end-start)"
   ]
  },
  {
   "cell_type": "markdown",
   "id": "89708c25",
   "metadata": {},
   "source": [
    "## Question: Which of the two functions performs faster? And why is it performing faster?\n",
    "## For the functions that I defined, the recursion function performs faster. I think it's because my recursion function is simpler than my iteration, this making it easier to read. I think what makes the iteration slower is because I use and index there."
   ]
  },
  {
   "cell_type": "markdown",
   "id": "20848b9f",
   "metadata": {},
   "source": [
    "## 2. Iteratively and recursively calculate the sum of the first n powers of 2, along with the rendering time of each function using the time module."
   ]
  },
  {
   "cell_type": "code",
   "execution_count": 11,
   "id": "4743047a",
   "metadata": {},
   "outputs": [
    {
     "name": "stdout",
     "output_type": "stream",
     "text": [
      "Enter the value of n: 37\n",
      "Total: 137438953471\n",
      "The rendering time of the iterative function is :0.0\n"
     ]
    }
   ],
   "source": [
    "import time\n",
    "\n",
    "def iterative_sum_powers(n):\n",
    "    for exponent in range(0,n):\n",
    "        if exponent==0:\n",
    "            argument=1\n",
    "            exponent+=1\n",
    "            sum=0+argument\n",
    "        elif exponent>0:\n",
    "            argument=argument*2\n",
    "            sum=sum+argument\n",
    "            exponent+=1\n",
    "    return sum\n",
    "\n",
    "n=int(input(\"Enter the value of n: \"))\n",
    "while n<=0:\n",
    "    n=int(input(\"Please enter an integer greater than zero: \"))\n",
    "start=time.time()\n",
    "sum=iterative_sum_powers(n)\n",
    "end=time.time()\n",
    "print(\"Total: %d\" %(sum))\n",
    "print(\"The rendering time of the iterative function is :\", end='')\n",
    "print(end-start)"
   ]
  },
  {
   "cell_type": "code",
   "execution_count": 12,
   "id": "45b4b64e",
   "metadata": {},
   "outputs": [
    {
     "name": "stdout",
     "output_type": "stream",
     "text": [
      "Enter the value of n: 37\n",
      "Total:137438953471\n",
      "The rendering time of the recursive function is :0.0005342960357666016\n"
     ]
    }
   ],
   "source": [
    "import time\n",
    "\n",
    "def recursive_sum_powers(n):\n",
    "    if n==0:\n",
    "        sum=0\n",
    "    elif n==1:\n",
    "        sum=2**(n-1)\n",
    "    else:\n",
    "            sum=((2**(n))+recursive_sum_powers(n-1))-(2**(n-1))\n",
    "    return sum\n",
    "\n",
    "n=int(input(\"Enter the value of n: \"))\n",
    "while n<=0:\n",
    "    n=int(input(\"Please enter an integer greater than zero: \"))\n",
    "start = time.time()\n",
    "sum=recursive_sum_powers(n)\n",
    "end=time.time()\n",
    "print(\"Total:%d\" %(sum))\n",
    "print(\"The rendering time of the recursive function is :\", end='')\n",
    "print(end-start)"
   ]
  },
  {
   "cell_type": "markdown",
   "id": "09f5c889",
   "metadata": {},
   "source": [
    "## Question: Which of the two functions performs faster? And why is it performing faster?\n",
    "## For this part, the iteration performed faster compared to the recursion. It's probably because it's the more simple one and doesn't need to call back data.\n"
   ]
  }
 ],
 "metadata": {
  "kernelspec": {
   "display_name": "Python 3 (ipykernel)",
   "language": "python",
   "name": "python3"
  },
  "language_info": {
   "codemirror_mode": {
    "name": "ipython",
    "version": 3
   },
   "file_extension": ".py",
   "mimetype": "text/x-python",
   "name": "python",
   "nbconvert_exporter": "python",
   "pygments_lexer": "ipython3",
   "version": "3.11.5"
  }
 },
 "nbformat": 4,
 "nbformat_minor": 5
}
