{
 "cells": [
  {
   "cell_type": "markdown",
   "id": "1037907a-28d5-471a-b87b-ca7321279a74",
   "metadata": {},
   "source": [
    "1. How many seconds are there in 42 minutes 42 seconds?"
   ]
  },
  {
   "cell_type": "code",
   "execution_count": 5,
   "id": "2e392103-2698-44af-a00d-75fba1319f9e",
   "metadata": {},
   "outputs": [
    {
     "name": "stdout",
     "output_type": "stream",
     "text": [
      "42 minutes 42 seconds is equal to 2562 seconds.\n"
     ]
    }
   ],
   "source": [
    "minutes = 42\n",
    "seconds = 42\n",
    "sec_per_min = 60\n",
    "total_seconds = ( minutes * sec_per_min ) + seconds\n",
    "print('%d minutes %d seconds is equal to %d seconds.' %(minutes,seconds,total_seconds))"
   ]
  },
  {
   "cell_type": "markdown",
   "id": "dfce71ae-d711-47fa-b95f-f9131f1f287d",
   "metadata": {},
   "source": [
    "2. How many miles are there in 10 kilometers? Hint: there are 1.61 kilometers in a mile."
   ]
  },
  {
   "cell_type": "code",
   "execution_count": 6,
   "id": "fcd11e0f-40ba-4312-89b2-a29f6839c8ce",
   "metadata": {},
   "outputs": [
    {
     "name": "stdout",
     "output_type": "stream",
     "text": [
      "10.00 kilometers is equal to 6.21 miles.\n"
     ]
    }
   ],
   "source": [
    "kilometers = 10\n",
    "km_per_mile = 1.61\n",
    "miles = kilometers/km_per_mile\n",
    "print('%0.2f kilometers is equal to %0.2f miles.' %(kilometers,miles))"
   ]
  },
  {
   "cell_type": "markdown",
   "id": "6bbf6239-5566-41ef-b0f8-c21b8c22d51a",
   "metadata": {},
   "source": [
    "3. If you run a 10 kilometer race in 42 minutes 42 seconds, what is your average pace (time per mile in minutes and seconds)? What is your average speed in miles per hour?"
   ]
  },
  {
   "cell_type": "code",
   "execution_count": 7,
   "id": "21ef07aa-ae08-4186-85df-eab2d35890da",
   "metadata": {},
   "outputs": [
    {
     "name": "stdout",
     "output_type": "stream",
     "text": [
      "Your pace is 6:52.\n",
      "Your average speed is 8.73 mph.\n"
     ]
    }
   ],
   "source": [
    "kilometers = 10\n",
    "km_per_mile = 1.61\n",
    "miles = kilometers/km_per_mile\n",
    "\n",
    "minutes = 42\n",
    "seconds = 42\n",
    "sec_per_min = 60\n",
    "sec_per_hour = 3600\n",
    "total_seconds = ( minutes * sec_per_min ) + seconds\n",
    "hour = total_seconds/sec_per_hour\n",
    "\n",
    "pace = total_seconds/miles\n",
    "pace_min = pace//sec_per_min\n",
    "pace_sec = pace%sec_per_min\n",
    "\n",
    "miles_per_hour = miles/hour\n",
    "\n",
    "print('Your pace is %d:%d.' %(pace_min,pace_sec))\n",
    "print('Your average speed is %0.2f mph.' %(miles_per_hour))"
   ]
  },
  {
   "cell_type": "code",
   "execution_count": null,
   "id": "d66cfdfc-3bcc-4582-92b9-84f3fc97c1b7",
   "metadata": {},
   "outputs": [],
   "source": []
  }
 ],
 "metadata": {
  "kernelspec": {
   "display_name": "Python 3 (ipykernel)",
   "language": "python",
   "name": "python3"
  },
  "language_info": {
   "codemirror_mode": {
    "name": "ipython",
    "version": 3
   },
   "file_extension": ".py",
   "mimetype": "text/x-python",
   "name": "python",
   "nbconvert_exporter": "python",
   "pygments_lexer": "ipython3",
   "version": "3.10.7"
  }
 },
 "nbformat": 4,
 "nbformat_minor": 5
}
