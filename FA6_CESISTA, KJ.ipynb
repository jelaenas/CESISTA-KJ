{
 "cells": [
  {
   "cell_type": "markdown",
   "id": "a301ae9b",
   "metadata": {},
   "source": [
    "## 1. Write a function named ack that evaluates the Ackermann function. Use your function to evaluate ack(2,4). What happens for larger values of m and n?"
   ]
  },
  {
   "cell_type": "code",
   "execution_count": 20,
   "id": "4f97912b",
   "metadata": {},
   "outputs": [
    {
     "data": {
      "text/plain": [
       "11"
      ]
     },
     "execution_count": 20,
     "metadata": {},
     "output_type": "execute_result"
    }
   ],
   "source": [
    "def ack(m,n):\n",
    "    if m==0:\n",
    "        return n+1\n",
    "    elif m>0 and n==0:\n",
    "        return ack(m-1,1)\n",
    "    elif m>0 and n>0:\n",
    "        return ack(m-1,ack(m,n-1))\n",
    "\n",
    "ack(2,4)\n",
    "\n",
    "##for larger values of m and, it will become too large to compute"
   ]
  },
  {
   "cell_type": "markdown",
   "id": "be25da38",
   "metadata": {},
   "source": [
    "## 2. A number, a is a power of b if it is divisible by b and a/b is a power of b. Write a function called is_power that takes parameters a and b and returns True if a is a power of b. Note: you will have to think about a base case."
   ]
  },
  {
   "cell_type": "code",
   "execution_count": 19,
   "id": "12732668",
   "metadata": {},
   "outputs": [
    {
     "name": "stdout",
     "output_type": "stream",
     "text": [
      "Enter the power: 25.0\n",
      "Enter the base: 5.0\n",
      "Is 25 a power of 5?\n"
     ]
    },
    {
     "data": {
      "text/plain": [
       "True"
      ]
     },
     "execution_count": 19,
     "metadata": {},
     "output_type": "execute_result"
    }
   ],
   "source": [
    "def is_power(a,b):\n",
    "    if a%b==0 and (a/b)%b == 0:\n",
    "        return True\n",
    "    else:\n",
    "        return False\n",
    "\n",
    "a=float(input(\"Enter the power: \"))\n",
    "b=float(input(\"Enter the base: \"))\n",
    "print(\"Is %g a power of %g?\" %(a,b))\n",
    "\n",
    "is_power(a,b)"
   ]
  }
 ],
 "metadata": {
  "kernelspec": {
   "display_name": "Python 3 (ipykernel)",
   "language": "python",
   "name": "python3"
  },
  "language_info": {
   "codemirror_mode": {
    "name": "ipython",
    "version": 3
   },
   "file_extension": ".py",
   "mimetype": "text/x-python",
   "name": "python",
   "nbconvert_exporter": "python",
   "pygments_lexer": "ipython3",
   "version": "3.9.13"
  }
 },
 "nbformat": 4,
 "nbformat_minor": 5
}
