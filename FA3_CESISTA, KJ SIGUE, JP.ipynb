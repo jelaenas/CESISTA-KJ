{
 "cells": [
  {
   "cell_type": "markdown",
   "id": "47027b01",
   "metadata": {},
   "source": [
    "# The volume of a sphere with radius r is (4/3)π(r^3). What is the volume of a sphere with radius 5?"
   ]
  },
  {
   "cell_type": "code",
   "execution_count": 23,
   "id": "61c9dfbb",
   "metadata": {},
   "outputs": [
    {
     "name": "stdout",
     "output_type": "stream",
     "text": [
      "523.60\n"
     ]
    }
   ],
   "source": [
    "import math\n",
    "\n",
    "radius = 5\n",
    "volume = (4/3)*(math.pi)*(radius**3)\n",
    "print ('%0.2f units' %(volume))"
   ]
  },
  {
   "cell_type": "markdown",
   "id": "fe5889ab",
   "metadata": {},
   "source": [
    "# Suppose the cover price of a book is 24.95 dollars, but bookstores get a 40% discount. Shipping costs 3 dollars for the first copy and 75 cents for each additional copy. What is the total wholesale cost for 60 copies?"
   ]
  },
  {
   "cell_type": "code",
   "execution_count": 24,
   "id": "66b0ec00",
   "metadata": {},
   "outputs": [
    {
     "name": "stdout",
     "output_type": "stream",
     "text": [
      "945.45\n"
     ]
    }
   ],
   "source": [
    "copy = 60\n",
    "cover = ((24.95*copy)*0.6)\n",
    "shipping = (3+(copy-1)*0.75)\n",
    "cost  = cover+shipping\n",
    "print ('%0.2f $' %(cost))"
   ]
  },
  {
   "cell_type": "markdown",
   "id": "747acccc",
   "metadata": {},
   "source": [
    "# If I leave my house at 6:52 am and run 1 mile at an easy pace (8:15 per mile), then 3 miles at tempo (7:12 per mile) and 1 mile at an easy pace again, what time do I get home for breakfast?"
   ]
  },
  {
   "cell_type": "code",
   "execution_count": 34,
   "id": "ac5461b7",
   "metadata": {},
   "outputs": [
    {
     "name": "stdout",
     "output_type": "stream",
     "text": [
      "You will get home for breakfast at 7:30:6 AM\n"
     ]
    }
   ],
   "source": [
    "starting_time  = (6*3600)+(52*60)\n",
    "easy_pace = (8*60)+15\n",
    "tempo_pace = (7*60)+12\n",
    "time_seconds = (2*easy_pace)+(3*tempo_pace)\n",
    "end_time = starting_time + time_seconds\n",
    "end_hour = end_time//3600\n",
    "end_minutes = (end_time%3600)//60\n",
    "end_seconds= (end_time-(end_hour*3600+end_minutes*60))\n",
    "print ('You will get home for breakfast at %d:%d:%d AM' %(end_hour,end_minutes,end_seconds))"
   ]
  }
 ],
 "metadata": {
  "kernelspec": {
   "display_name": "Python 3 (ipykernel)",
   "language": "python",
   "name": "python3"
  },
  "language_info": {
   "codemirror_mode": {
    "name": "ipython",
    "version": 3
   },
   "file_extension": ".py",
   "mimetype": "text/x-python",
   "name": "python",
   "nbconvert_exporter": "python",
   "pygments_lexer": "ipython3",
   "version": "3.9.13"
  }
 },
 "nbformat": 4,
 "nbformat_minor": 5
}
